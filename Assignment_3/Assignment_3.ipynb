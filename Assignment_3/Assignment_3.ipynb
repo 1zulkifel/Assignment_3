{
 "cells": [
  {
   "cell_type": "code",
   "execution_count": 1,
   "metadata": {},
   "outputs": [
    {
     "name": "stdout",
     "output_type": "stream",
     "text": [
      "cycle 1\n",
      "enter any key: 1\n",
      "enter any value: 2\n",
      "{1: '2'}\n",
      "cycle 2\n",
      "enter any key: 2\n",
      "enter any value: ali\n",
      "{2: 'ali'}\n",
      "cycle 3\n",
      "enter any key: 3\n",
      "enter any value: sher\n",
      "{3: 'sher'}\n",
      "cycle 4\n",
      "enter any key: 4\n",
      "enter any value: sher khan\n",
      "{4: 'sher khan'}\n"
     ]
    }
   ],
   "source": [
    "## Q.no 1\n",
    "for j in range(1,5):\n",
    "    print('cycle', j )\n",
    "    key_1=int(input('enter any key: '))\n",
    "    value_1=input('enter any value: ')\n",
    "    empty_dict={}\n",
    "    empty_dict.update({key_1 : value_1})\n",
    "    print(empty_dict)\n",
    "\n",
    "\n",
    "    "
   ]
  },
  {
   "cell_type": "code",
   "execution_count": 12,
   "metadata": {},
   "outputs": [
    {
     "name": "stdout",
     "output_type": "stream",
     "text": [
      "Combined result :\n",
      "{1: 'ali', 2: 'sher', 3: ' rehmat', 4: 'amir', 5: 'shahid', 6: ' rehil'}\n"
     ]
    }
   ],
   "source": [
    "# Q.no 2 concatinate two dictionaries into 1.\n",
    "Dict_1 ={\n",
    "    1 : 'ali',\n",
    "    2 :'sher',\n",
    "    3 : ' rehmat'\n",
    "}\n",
    "\n",
    "Dict_2 ={\n",
    "    4: 'amir',\n",
    "    5: 'shahid',\n",
    "    6: ' rehil'\n",
    "}\n",
    "print(\"Combined result :\")\n",
    "Dict_1.update(Dict_2)\n",
    "print(Dict_1)"
   ]
  },
  {
   "cell_type": "code",
   "execution_count": null,
   "metadata": {},
   "outputs": [
    {
     "name": "stdout",
     "output_type": "stream",
     "text": [
      "case 1\n",
      "enter a number:3\n",
      "key found and  key is 1\n",
      "case 2\n",
      "enter a number:5\n",
      "enter a valid key\n",
      "case 3\n",
      "enter a number:1\n",
      "key found and  key is 3\n",
      "case 4\n"
     ]
    }
   ],
   "source": [
    "#Q3\n",
    "Dict_1 ={\n",
    "    1 : 'ali',\n",
    "    2 :'sher',\n",
    "    3 : ' rehmat'\n",
    "}\n",
    "\n",
    "for i in range (1,5):\n",
    "    print('case',i)\n",
    "    key_input=int(input('enter a number:'))\n",
    "    if (key_input in Dict_1.keys()):\n",
    "        print('key found and  key is',i)\n",
    "       \n",
    "    else:\n",
    "        print('enter a valid key')"
   ]
  },
  {
   "cell_type": "code",
   "execution_count": 1,
   "metadata": {},
   "outputs": [
    {
     "name": "stdout",
     "output_type": "stream",
     "text": [
      "Please enter number of items: 1\n",
      " keys: \n",
      "Enter keys: 2\n",
      "List of values: \n",
      "Enter values: ali\n",
      "The dictionary is:  {'2': 'ali'}\n"
     ]
    }
   ],
   "source": [
    "#Q10\n",
    "\n",
    "list_of_keys=[]\n",
    "list_of_values=[]\n",
    "items = int(input(\"Please enter number of items: \"))\n",
    "\n",
    "print(\" keys: \")\n",
    "for n in range(items):\n",
    "    keys = input(\"Enter keys: \")\n",
    "    list_of_keys.append(keys)\n",
    "\n",
    "print(\"List of values: \")\n",
    "for n in range(items):\n",
    "    values = input(\"Enter values: \")\n",
    "    list_of_values.append(values)\n",
    "dictionary_items = dict(zip(list_of_keys,list_of_values))\n",
    "print(\"The dictionary is: \", dictionary_items)"
   ]
  },
  {
   "cell_type": "code",
   "execution_count": 4,
   "metadata": {},
   "outputs": [
    {
     "name": "stdout",
     "output_type": "stream",
     "text": [
      "Enter unwanted name: alpha\n",
      "{'beta': 11122, 'gama': 338, 'nano': 56756}\n"
     ]
    }
   ],
   "source": [
    "#Q7\n",
    "item_quantity = {'alpha': 1122, 'beta': 11122, 'gama': 338, 'nano': 56756}\n",
    "remarks = input('Enter unwanted name: ')\n",
    "if remarks in item_quantity:\n",
    "    del item_quantity[remarks]\n",
    "print(item_quantity)"
   ]
  },
  {
   "cell_type": "code",
   "execution_count": 6,
   "metadata": {},
   "outputs": [
    {
     "name": "stdout",
     "output_type": "stream",
     "text": [
      "69.0\n"
     ]
    }
   ],
   "source": [
    "#6\n",
    "Dict_1 = {'working hours': 11.5, 'workking days': 6}\n",
    "total_time = 1\n",
    "for i in Dict_1:    \n",
    "    total_time = total_time * Dict_1[i]\n",
    "print(total_time)"
   ]
  },
  {
   "cell_type": "code",
   "execution_count": null,
   "metadata": {},
   "outputs": [],
   "source": []
  }
 ],
 "metadata": {
  "kernelspec": {
   "display_name": "Python 3",
   "language": "python",
   "name": "python3"
  },
  "language_info": {
   "codemirror_mode": {
    "name": "ipython",
    "version": 3
   },
   "file_extension": ".py",
   "mimetype": "text/x-python",
   "name": "python",
   "nbconvert_exporter": "python",
   "pygments_lexer": "ipython3",
   "version": "3.7.0"
  }
 },
 "nbformat": 4,
 "nbformat_minor": 2
}
